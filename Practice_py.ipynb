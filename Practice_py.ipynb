{
  "nbformat": 4,
  "nbformat_minor": 0,
  "metadata": {
    "colab": {
      "provenance": [],
      "authorship_tag": "ABX9TyOke0FjK88DfvwiA8PP55sK",
      "include_colab_link": true
    },
    "kernelspec": {
      "name": "python3",
      "display_name": "Python 3"
    },
    "language_info": {
      "name": "python"
    }
  },
  "cells": [
    {
      "cell_type": "markdown",
      "metadata": {
        "id": "view-in-github",
        "colab_type": "text"
      },
      "source": [
        "<a href=\"https://colab.research.google.com/github/SayliM7/Sayli_M/blob/main/Practice_py.ipynb\" target=\"_parent\"><img src=\"https://colab.research.google.com/assets/colab-badge.svg\" alt=\"Open In Colab\"/></a>"
      ]
    },
    {
      "cell_type": "code",
      "execution_count": 10,
      "metadata": {
        "colab": {
          "base_uri": "https://localhost:8080/"
        },
        "id": "pvMQLGOur1Au",
        "outputId": "e4a1235f-1fff-4696-ce13-a965f2215ca3"
      },
      "outputs": [
        {
          "output_type": "stream",
          "name": "stdout",
          "text": [
            "Select operation:\n",
            "1. Add\n",
            "2. Subtract\n",
            "3. Multiply\n",
            "4. Divide\n",
            "5. Square Root\n",
            "Enter choice (1/2/3/4/5): 5\n",
            "Enter the number: 36\n",
            "Result: 6.0\n"
          ]
        }
      ],
      "source": [
        "# Simple Calculator in Python\n",
        "import math\n",
        "\n",
        "def add(a, b):\n",
        "    return a + b\n",
        "\n",
        "def subtract(a, b):\n",
        "    return a - b\n",
        "\n",
        "def multiply(a, b):\n",
        "    return a * b\n",
        "\n",
        "def divide(a, b):\n",
        "    if b == 0:\n",
        "        return \"Error! Division by zero.\"\n",
        "    return a / b\n",
        "\n",
        "def square_root(a):\n",
        "  if a <0:\n",
        "    return \"Error! Invalid input\"\n",
        "  return math.sqrt(a)\n",
        "\n",
        "\n",
        "# User menu\n",
        "print(\"Select operation:\")\n",
        "print(\"1. Add\")\n",
        "print(\"2. Subtract\")\n",
        "print(\"3. Multiply\")\n",
        "print(\"4. Divide\")\n",
        "print(\"5. Square Root\")\n",
        "\n",
        "# Take user input\n",
        "choice = input(\"Enter choice (1/2/3/4/5): \")\n",
        "\n",
        "if choice == '5':\n",
        "  num = float(input(\"Enter the number: \"))\n",
        "  print(f\"Result: {square_root(num)}\")\n",
        "else:\n",
        "    num1 = float(input(\"Enter first number: \"))\n",
        "    num2 = float(input(\"Enter second number: \"))\n",
        "\n",
        "# Perform the chosen operation\n",
        "    if choice == '1':\n",
        "        print(f\"Result: {add(num1, num2)}\")\n",
        "    elif choice == '2':\n",
        "        print(f\"Result: {subtract(num1, num2)}\")\n",
        "    elif choice == '3':\n",
        "        print(f\"Result: {multiply(num1, num2)}\")\n",
        "    elif choice == '4':\n",
        "        print(f\"Result: {divide(num1, num2)}\")\n",
        "\n",
        "    else:\n",
        "     print(\"Invalid input! Please select a valid option.\")\n"
      ]
    },
    {
      "cell_type": "code",
      "source": [],
      "metadata": {
        "id": "toL117tZxEUV"
      },
      "execution_count": 6,
      "outputs": []
    }
  ]
}